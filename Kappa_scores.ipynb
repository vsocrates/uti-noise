{
 "cells": [
  {
   "cell_type": "code",
   "execution_count": 1,
   "id": "485540de",
   "metadata": {},
   "outputs": [],
   "source": [
    "# lets take a look at the kappa scores"
   ]
  },
  {
   "cell_type": "code",
   "execution_count": 2,
   "id": "d76925c9",
   "metadata": {},
   "outputs": [
    {
     "ename": "KeyboardInterrupt",
     "evalue": "",
     "output_type": "error",
     "traceback": [
      "\u001b[0;31m---------------------------------------------------------------------------\u001b[0m",
      "\u001b[0;31mKeyboardInterrupt\u001b[0m                         Traceback (most recent call last)",
      "Cell \u001b[0;32mIn [2], line 2\u001b[0m\n\u001b[1;32m      1\u001b[0m \u001b[38;5;28;01mfrom\u001b[39;00m \u001b[38;5;21;01mcollections\u001b[39;00m \u001b[38;5;28;01mimport\u001b[39;00m Counter, defaultdict\n\u001b[0;32m----> 2\u001b[0m \u001b[38;5;28;01mfrom\u001b[39;00m \u001b[38;5;21;01mprodigy\u001b[39;00m\u001b[38;5;21;01m.\u001b[39;00m\u001b[38;5;21;01mcomponents\u001b[39;00m\u001b[38;5;21;01m.\u001b[39;00m\u001b[38;5;21;01mdb\u001b[39;00m \u001b[38;5;28;01mimport\u001b[39;00m connect\n\u001b[1;32m      3\u001b[0m \u001b[38;5;28;01mfrom\u001b[39;00m \u001b[38;5;21;01mprodigy\u001b[39;00m \u001b[38;5;28;01mimport\u001b[39;00m set_hashes\n\u001b[1;32m      4\u001b[0m \u001b[38;5;28;01mimport\u001b[39;00m \u001b[38;5;21;01mpandas\u001b[39;00m \u001b[38;5;28;01mas\u001b[39;00m \u001b[38;5;21;01mpd\u001b[39;00m\n",
      "File \u001b[0;32m/gpfs/milgram/project/rtaylor/vs428/conda_envs/prodigy/lib/python3.9/site-packages/prodigy/__init__.py:1\u001b[0m\n\u001b[0;32m----> 1\u001b[0m \u001b[38;5;28;01mfrom\u001b[39;00m \u001b[38;5;21;01m.\u001b[39;00m\u001b[38;5;21;01mutil\u001b[39;00m \u001b[38;5;28;01mimport\u001b[39;00m init_package\n\u001b[1;32m      3\u001b[0m init_package()\n\u001b[1;32m      5\u001b[0m \u001b[38;5;28;01mimport\u001b[39;00m \u001b[38;5;21;01mshlex\u001b[39;00m\n",
      "File \u001b[0;32mcython_src/prodigy/util.pyx:16\u001b[0m, in \u001b[0;36minit prodigy.util\u001b[0;34m()\u001b[0m\n",
      "File \u001b[0;32m/gpfs/milgram/project/rtaylor/vs428/conda_envs/prodigy/lib/python3.9/site-packages/spacy/__init__.py:11\u001b[0m\n\u001b[1;32m      8\u001b[0m setup_default_warnings()  \u001b[38;5;66;03m# noqa: E402\u001b[39;00m\n\u001b[1;32m     10\u001b[0m \u001b[38;5;66;03m# These are imported as part of the API\u001b[39;00m\n\u001b[0;32m---> 11\u001b[0m \u001b[38;5;28;01mfrom\u001b[39;00m \u001b[38;5;21;01mthinc\u001b[39;00m\u001b[38;5;21;01m.\u001b[39;00m\u001b[38;5;21;01mapi\u001b[39;00m \u001b[38;5;28;01mimport\u001b[39;00m prefer_gpu, require_gpu, require_cpu  \u001b[38;5;66;03m# noqa: F401\u001b[39;00m\n\u001b[1;32m     12\u001b[0m \u001b[38;5;28;01mfrom\u001b[39;00m \u001b[38;5;21;01mthinc\u001b[39;00m\u001b[38;5;21;01m.\u001b[39;00m\u001b[38;5;21;01mapi\u001b[39;00m \u001b[38;5;28;01mimport\u001b[39;00m Config\n\u001b[1;32m     14\u001b[0m \u001b[38;5;28;01mfrom\u001b[39;00m \u001b[38;5;21;01m.\u001b[39;00m \u001b[38;5;28;01mimport\u001b[39;00m pipeline  \u001b[38;5;66;03m# noqa: F401\u001b[39;00m\n",
      "File \u001b[0;32m/gpfs/milgram/project/rtaylor/vs428/conda_envs/prodigy/lib/python3.9/site-packages/thinc/api.py:2\u001b[0m\n\u001b[1;32m      1\u001b[0m \u001b[38;5;28;01mfrom\u001b[39;00m \u001b[38;5;21;01m.\u001b[39;00m\u001b[38;5;21;01mconfig\u001b[39;00m \u001b[38;5;28;01mimport\u001b[39;00m Config, registry, ConfigValidationError\n\u001b[0;32m----> 2\u001b[0m \u001b[38;5;28;01mfrom\u001b[39;00m \u001b[38;5;21;01m.\u001b[39;00m\u001b[38;5;21;01minitializers\u001b[39;00m \u001b[38;5;28;01mimport\u001b[39;00m normal_init, uniform_init, glorot_uniform_init, zero_init\n\u001b[1;32m      3\u001b[0m \u001b[38;5;28;01mfrom\u001b[39;00m \u001b[38;5;21;01m.\u001b[39;00m\u001b[38;5;21;01minitializers\u001b[39;00m \u001b[38;5;28;01mimport\u001b[39;00m configure_normal_init\n\u001b[1;32m      4\u001b[0m \u001b[38;5;28;01mfrom\u001b[39;00m \u001b[38;5;21;01m.\u001b[39;00m\u001b[38;5;21;01mloss\u001b[39;00m \u001b[38;5;28;01mimport\u001b[39;00m CategoricalCrossentropy, L2Distance, CosineDistance\n",
      "File \u001b[0;32m/gpfs/milgram/project/rtaylor/vs428/conda_envs/prodigy/lib/python3.9/site-packages/thinc/initializers.py:4\u001b[0m\n\u001b[1;32m      1\u001b[0m \u001b[38;5;28;01mfrom\u001b[39;00m \u001b[38;5;21;01mtyping\u001b[39;00m \u001b[38;5;28;01mimport\u001b[39;00m Callable, cast\n\u001b[1;32m      2\u001b[0m \u001b[38;5;28;01mimport\u001b[39;00m \u001b[38;5;21;01mnumpy\u001b[39;00m\n\u001b[0;32m----> 4\u001b[0m \u001b[38;5;28;01mfrom\u001b[39;00m \u001b[38;5;21;01m.\u001b[39;00m\u001b[38;5;21;01mbackends\u001b[39;00m \u001b[38;5;28;01mimport\u001b[39;00m Ops\n\u001b[1;32m      5\u001b[0m \u001b[38;5;28;01mfrom\u001b[39;00m \u001b[38;5;21;01m.\u001b[39;00m\u001b[38;5;21;01mconfig\u001b[39;00m \u001b[38;5;28;01mimport\u001b[39;00m registry\n\u001b[1;32m      6\u001b[0m \u001b[38;5;28;01mfrom\u001b[39;00m \u001b[38;5;21;01m.\u001b[39;00m\u001b[38;5;21;01mtypes\u001b[39;00m \u001b[38;5;28;01mimport\u001b[39;00m FloatsXd, Shape\n",
      "File \u001b[0;32m/gpfs/milgram/project/rtaylor/vs428/conda_envs/prodigy/lib/python3.9/site-packages/thinc/backends/__init__.py:7\u001b[0m\n\u001b[1;32m      4\u001b[0m \u001b[38;5;28;01mfrom\u001b[39;00m \u001b[38;5;21;01mcontextvars\u001b[39;00m \u001b[38;5;28;01mimport\u001b[39;00m ContextVar\n\u001b[1;32m      5\u001b[0m \u001b[38;5;28;01mimport\u001b[39;00m \u001b[38;5;21;01mthreading\u001b[39;00m\n\u001b[0;32m----> 7\u001b[0m \u001b[38;5;28;01mfrom\u001b[39;00m \u001b[38;5;21;01m.\u001b[39;00m\u001b[38;5;21;01mops\u001b[39;00m \u001b[38;5;28;01mimport\u001b[39;00m Ops\n\u001b[1;32m      8\u001b[0m \u001b[38;5;28;01mfrom\u001b[39;00m \u001b[38;5;21;01m.\u001b[39;00m\u001b[38;5;21;01mcupy_ops\u001b[39;00m \u001b[38;5;28;01mimport\u001b[39;00m CupyOps, has_cupy\n\u001b[1;32m      9\u001b[0m \u001b[38;5;28;01mfrom\u001b[39;00m \u001b[38;5;21;01m.\u001b[39;00m\u001b[38;5;21;01mnumpy_ops\u001b[39;00m \u001b[38;5;28;01mimport\u001b[39;00m NumpyOps\n",
      "File \u001b[0;32m/gpfs/milgram/project/rtaylor/vs428/conda_envs/prodigy/lib/python3.9/site-packages/thinc/backends/ops.py:13\u001b[0m\n\u001b[1;32m     11\u001b[0m \u001b[38;5;28;01mfrom\u001b[39;00m \u001b[38;5;21;01m.\u001b[39;00m\u001b[38;5;21;01m.\u001b[39;00m\u001b[38;5;21;01mtypes\u001b[39;00m \u001b[38;5;28;01mimport\u001b[39;00m FloatsXd, Ints1d, Ints2d, Ints3d, Ints4d, IntsXd, _Floats\n\u001b[1;32m     12\u001b[0m \u001b[38;5;28;01mfrom\u001b[39;00m \u001b[38;5;21;01m.\u001b[39;00m\u001b[38;5;21;01m.\u001b[39;00m\u001b[38;5;21;01mtypes\u001b[39;00m \u001b[38;5;28;01mimport\u001b[39;00m DeviceTypes, Generator, Padded, Batchable, SizedGenerator\n\u001b[0;32m---> 13\u001b[0m \u001b[38;5;28;01mfrom\u001b[39;00m \u001b[38;5;21;01m.\u001b[39;00m\u001b[38;5;21;01m.\u001b[39;00m\u001b[38;5;21;01mutil\u001b[39;00m \u001b[38;5;28;01mimport\u001b[39;00m get_array_module, is_xp_array, to_numpy\n\u001b[1;32m     16\u001b[0m ArrayT \u001b[38;5;241m=\u001b[39m TypeVar(\u001b[38;5;124m\"\u001b[39m\u001b[38;5;124mArrayT\u001b[39m\u001b[38;5;124m\"\u001b[39m, bound\u001b[38;5;241m=\u001b[39mArrayXd)\n\u001b[1;32m     17\u001b[0m FloatsT \u001b[38;5;241m=\u001b[39m TypeVar(\u001b[38;5;124m\"\u001b[39m\u001b[38;5;124mFloatsT\u001b[39m\u001b[38;5;124m\"\u001b[39m, bound\u001b[38;5;241m=\u001b[39m_Floats)\n",
      "File \u001b[0;32m/gpfs/milgram/project/rtaylor/vs428/conda_envs/prodigy/lib/python3.9/site-packages/thinc/util.py:29\u001b[0m\n\u001b[1;32m     25\u001b[0m     has_cupy \u001b[38;5;241m=\u001b[39m \u001b[38;5;28;01mFalse\u001b[39;00m\n\u001b[1;32m     28\u001b[0m \u001b[38;5;28;01mtry\u001b[39;00m:  \u001b[38;5;66;03m# pragma: no cover\u001b[39;00m\n\u001b[0;32m---> 29\u001b[0m     \u001b[38;5;28;01mimport\u001b[39;00m \u001b[38;5;21;01mtorch\u001b[39;00m\n\u001b[1;32m     30\u001b[0m     \u001b[38;5;28;01mfrom\u001b[39;00m \u001b[38;5;21;01mtorch\u001b[39;00m \u001b[38;5;28;01mimport\u001b[39;00m tensor\n\u001b[1;32m     31\u001b[0m     \u001b[38;5;28;01mimport\u001b[39;00m \u001b[38;5;21;01mtorch\u001b[39;00m\u001b[38;5;21;01m.\u001b[39;00m\u001b[38;5;21;01mutils\u001b[39;00m\u001b[38;5;21;01m.\u001b[39;00m\u001b[38;5;21;01mdlpack\u001b[39;00m\n",
      "File \u001b[0;32m/gpfs/milgram/project/rtaylor/vs428/conda_envs/prodigy/lib/python3.9/site-packages/torch/__init__.py:713\u001b[0m\n\u001b[1;32m    711\u001b[0m \u001b[38;5;28;01mfrom\u001b[39;00m \u001b[38;5;21;01mtorch\u001b[39;00m \u001b[38;5;28;01mimport\u001b[39;00m hub \u001b[38;5;28;01mas\u001b[39;00m hub\n\u001b[1;32m    712\u001b[0m \u001b[38;5;28;01mfrom\u001b[39;00m \u001b[38;5;21;01mtorch\u001b[39;00m \u001b[38;5;28;01mimport\u001b[39;00m random \u001b[38;5;28;01mas\u001b[39;00m random\n\u001b[0;32m--> 713\u001b[0m \u001b[38;5;28;01mfrom\u001b[39;00m \u001b[38;5;21;01mtorch\u001b[39;00m \u001b[38;5;28;01mimport\u001b[39;00m distributions \u001b[38;5;28;01mas\u001b[39;00m distributions\n\u001b[1;32m    714\u001b[0m \u001b[38;5;28;01mfrom\u001b[39;00m \u001b[38;5;21;01mtorch\u001b[39;00m \u001b[38;5;28;01mimport\u001b[39;00m testing \u001b[38;5;28;01mas\u001b[39;00m testing\n\u001b[1;32m    715\u001b[0m \u001b[38;5;28;01mimport\u001b[39;00m \u001b[38;5;21;01mtorch\u001b[39;00m\u001b[38;5;21;01m.\u001b[39;00m\u001b[38;5;21;01mbackends\u001b[39;00m\u001b[38;5;21;01m.\u001b[39;00m\u001b[38;5;21;01mcuda\u001b[39;00m\n",
      "File \u001b[0;32m/gpfs/milgram/project/rtaylor/vs428/conda_envs/prodigy/lib/python3.9/site-packages/torch/distributions/__init__.py:89\u001b[0m\n\u001b[1;32m     87\u001b[0m \u001b[38;5;28;01mfrom\u001b[39;00m \u001b[38;5;21;01m.\u001b[39;00m\u001b[38;5;21;01mgamma\u001b[39;00m \u001b[38;5;28;01mimport\u001b[39;00m Gamma\n\u001b[1;32m     88\u001b[0m \u001b[38;5;28;01mfrom\u001b[39;00m \u001b[38;5;21;01m.\u001b[39;00m\u001b[38;5;21;01mgeometric\u001b[39;00m \u001b[38;5;28;01mimport\u001b[39;00m Geometric\n\u001b[0;32m---> 89\u001b[0m \u001b[38;5;28;01mfrom\u001b[39;00m \u001b[38;5;21;01m.\u001b[39;00m\u001b[38;5;21;01mgumbel\u001b[39;00m \u001b[38;5;28;01mimport\u001b[39;00m Gumbel\n\u001b[1;32m     90\u001b[0m \u001b[38;5;28;01mfrom\u001b[39;00m \u001b[38;5;21;01m.\u001b[39;00m\u001b[38;5;21;01mhalf_cauchy\u001b[39;00m \u001b[38;5;28;01mimport\u001b[39;00m HalfCauchy\n\u001b[1;32m     91\u001b[0m \u001b[38;5;28;01mfrom\u001b[39;00m \u001b[38;5;21;01m.\u001b[39;00m\u001b[38;5;21;01mhalf_normal\u001b[39;00m \u001b[38;5;28;01mimport\u001b[39;00m HalfNormal\n",
      "File \u001b[0;32m/gpfs/milgram/project/rtaylor/vs428/conda_envs/prodigy/lib/python3.9/site-packages/torch/distributions/gumbel.py:6\u001b[0m\n\u001b[1;32m      4\u001b[0m \u001b[38;5;28;01mfrom\u001b[39;00m \u001b[38;5;21;01mtorch\u001b[39;00m\u001b[38;5;21;01m.\u001b[39;00m\u001b[38;5;21;01mdistributions\u001b[39;00m \u001b[38;5;28;01mimport\u001b[39;00m constraints\n\u001b[1;32m      5\u001b[0m \u001b[38;5;28;01mfrom\u001b[39;00m \u001b[38;5;21;01mtorch\u001b[39;00m\u001b[38;5;21;01m.\u001b[39;00m\u001b[38;5;21;01mdistributions\u001b[39;00m\u001b[38;5;21;01m.\u001b[39;00m\u001b[38;5;21;01muniform\u001b[39;00m \u001b[38;5;28;01mimport\u001b[39;00m Uniform\n\u001b[0;32m----> 6\u001b[0m \u001b[38;5;28;01mfrom\u001b[39;00m \u001b[38;5;21;01mtorch\u001b[39;00m\u001b[38;5;21;01m.\u001b[39;00m\u001b[38;5;21;01mdistributions\u001b[39;00m\u001b[38;5;21;01m.\u001b[39;00m\u001b[38;5;21;01mtransformed_distribution\u001b[39;00m \u001b[38;5;28;01mimport\u001b[39;00m TransformedDistribution\n\u001b[1;32m      7\u001b[0m \u001b[38;5;28;01mfrom\u001b[39;00m \u001b[38;5;21;01mtorch\u001b[39;00m\u001b[38;5;21;01m.\u001b[39;00m\u001b[38;5;21;01mdistributions\u001b[39;00m\u001b[38;5;21;01m.\u001b[39;00m\u001b[38;5;21;01mtransforms\u001b[39;00m \u001b[38;5;28;01mimport\u001b[39;00m AffineTransform, ExpTransform\n\u001b[1;32m      8\u001b[0m \u001b[38;5;28;01mfrom\u001b[39;00m \u001b[38;5;21;01mtorch\u001b[39;00m\u001b[38;5;21;01m.\u001b[39;00m\u001b[38;5;21;01mdistributions\u001b[39;00m\u001b[38;5;21;01m.\u001b[39;00m\u001b[38;5;21;01mutils\u001b[39;00m \u001b[38;5;28;01mimport\u001b[39;00m broadcast_all, euler_constant\n",
      "File \u001b[0;32m<frozen importlib._bootstrap>:1007\u001b[0m, in \u001b[0;36m_find_and_load\u001b[0;34m(name, import_)\u001b[0m\n",
      "File \u001b[0;32m<frozen importlib._bootstrap>:986\u001b[0m, in \u001b[0;36m_find_and_load_unlocked\u001b[0;34m(name, import_)\u001b[0m\n",
      "File \u001b[0;32m<frozen importlib._bootstrap>:680\u001b[0m, in \u001b[0;36m_load_unlocked\u001b[0;34m(spec)\u001b[0m\n",
      "File \u001b[0;32m<frozen importlib._bootstrap_external>:846\u001b[0m, in \u001b[0;36mexec_module\u001b[0;34m(self, module)\u001b[0m\n",
      "File \u001b[0;32m<frozen importlib._bootstrap_external>:941\u001b[0m, in \u001b[0;36mget_code\u001b[0;34m(self, fullname)\u001b[0m\n",
      "File \u001b[0;32m<frozen importlib._bootstrap_external>:1040\u001b[0m, in \u001b[0;36mget_data\u001b[0;34m(self, path)\u001b[0m\n",
      "\u001b[0;31mKeyboardInterrupt\u001b[0m: "
     ]
    }
   ],
   "source": [
    "from collections import Counter, defaultdict\n",
    "from prodigy.components.db import connect\n",
    "from prodigy import set_hashes\n",
    "import pandas as pd"
   ]
  },
  {
   "cell_type": "code",
   "execution_count": null,
   "id": "828cc970",
   "metadata": {},
   "outputs": [],
   "source": [
    "input_hashes = defaultdict(list)\n",
    "counts = Counter()\n",
    "db = connect()\n",
    "answer_dict = defaultdict(lambda: {'accept':0, 'reject':0, 'ignore':0})\n",
    "examples = db.get_dataset(\"n2c2_assessment\")\n",
    "examples = [set_hashes(eg) for eg in examples]\n",
    "for eg in examples:\n",
    "    session = eg[\"_session_id\"].split(\"-\")[1] if \"_session_id\" in eg else \"n/a\"\n",
    "    answer_dict[session][eg['answer']] +=1\n",
    "    counts[session] += 1\n",
    "print(counts)"
   ]
  },
  {
   "cell_type": "code",
   "execution_count": null,
   "id": "cddb7041",
   "metadata": {},
   "outputs": [],
   "source": [
    "annotations_df = pd.DataFrame(examples)"
   ]
  },
  {
   "cell_type": "code",
   "execution_count": null,
   "id": "995a4e2c",
   "metadata": {},
   "outputs": [],
   "source": [
    "'''DC = annotations_df[annotations_df['_annotator_id'] == 'n2c2_planSubsection-dc2249']\n",
    "AG = annotations_df[annotations_df['_annotator_id'] == 'n2c2_planSubsection-asg64']'''"
   ]
  },
  {
   "cell_type": "code",
   "execution_count": null,
   "id": "2a9be393",
   "metadata": {},
   "outputs": [],
   "source": [
    "DC = annotations_df[annotations_df['_annotator_id'] == 'n2c2_assessment-dc2249']\n",
    "AG = annotations_df[annotations_df['_annotator_id'] == 'n2c2_assessment-asg64']"
   ]
  },
  {
   "cell_type": "code",
   "execution_count": null,
   "id": "f01e9900",
   "metadata": {},
   "outputs": [],
   "source": [
    "input_hashes = list(set(DC['_input_hash'].tolist() + AG['_input_hash'].tolist()))"
   ]
  },
  {
   "cell_type": "code",
   "execution_count": null,
   "id": "6bc49859",
   "metadata": {
    "scrolled": true,
    "tags": []
   },
   "outputs": [],
   "source": [
    "input_hashes"
   ]
  },
  {
   "cell_type": "code",
   "execution_count": null,
   "id": "02f13894",
   "metadata": {},
   "outputs": [],
   "source": [
    "len(input_hashes)"
   ]
  },
  {
   "cell_type": "code",
   "execution_count": null,
   "id": "d5b76c87",
   "metadata": {},
   "outputs": [],
   "source": [
    "import nltk"
   ]
  },
  {
   "cell_type": "code",
   "execution_count": null,
   "id": "23c19efc",
   "metadata": {},
   "outputs": [],
   "source": [
    "lst_AG"
   ]
  },
  {
   "cell_type": "code",
   "execution_count": 467,
   "id": "eb78c384",
   "metadata": {},
   "outputs": [],
   "source": [
    "from collections import defaultdict\n",
    "assessment_labels = {x:idx for idx, x in enumerate(['primary_problem','secondary_problem','primary_symptom','primary_sign'])}\n",
    "planSubsection_labels = {x:idx for idx, x in enumerate(['problem','complication_related_to_problem','event_related_to_problem','organ_failure_related_to_problem'])}\n",
    "IAA_f1_score = {}\n",
    "saved_annotations = []\n",
    "for h in input_hashes:\n",
    "    AG_df_hash = AG[AG['_input_hash'] == h]\n",
    "    DC_df_hash = DC[DC['_input_hash'] == h]\n",
    "    if len(DC_df_hash) == 0 or len(AG_df_hash) == 0:\n",
    "        continue\n",
    "    AG_df_hash = AG_df_hash.iloc[0]# get spans\n",
    "    DC_df_hash = DC_df_hash.iloc[0]# get spans\n",
    "    # if spans in the df, if spans are not NA and if the len of the span is larger than 0\n",
    "    ann1 = type(AG_df_hash['spans']) == float or len(AG_df_hash['spans']) == 0\n",
    "    ann2 = type(DC_df_hash['spans']) == float or len(DC_df_hash['spans']) == 0\n",
    "    if ann1 or ann2:\n",
    "        if len(saved_annotations) < 6:\n",
    "            saved_annotations.append({'DC': AG_df_hash['spans'], 'AG': DC_df_hash['spans'], 'text': DC_df_hash['text']})\n",
    "        continue\n",
    "    if len(saved_annotations) < 10:\n",
    "        saved_annotations.append({'DC': AG_df_hash['spans'], 'AG': DC_df_hash['spans'], 'text': DC_df_hash['text']})\n",
    "    lst_AG = AG_df_hash['spans']\n",
    "    lst_DC = DC_df_hash['spans']\n",
    "    # extract the list elements that have overlap (This may cause some issue where an annotation from a1 is overlapped 2 times by a2)\n",
    "    # I am going to just count it as another y value\n",
    "    # so what we want to do is capture the intervals for the spans, then check to see if the spans are different. in 3 ways\n",
    "    #   i) binary absolute match (EXACT match on spans, no match), \n",
    "    #  ii) any overlap (if there is any overlap then its an agreement) and \n",
    "    # iii) weighted overlap by jaccard distance/character numbers (amount of overlap is > 50%)\n",
    "    spans_AG = [[x['start'], x['end'], {'AG': assessment_labels[x['label']]}] for x in lst_AG]\n",
    "    spans_DC = [[x['start'], x['end'], {'DC': assessment_labels[x['label']]}] for x in lst_DC]\n",
    "    # now we can update the annotator-label dict with both annotators on the merged\n",
    "    spans = spans_AG + spans_DC\n",
    "    if len(spans) == 0:# in the event the spans are empty\n",
    "        continue\n",
    "    spans.sort(key=lambda x: x[0])# sort them by the first element\n",
    "    merged = []\n",
    "    for interval in spans:\n",
    "        # if the list of merged intervals is empty or if the current\n",
    "        # interval does not overlap with the previous, simply append it.\n",
    "        if not merged or merged[-1][1] < interval[0]:\n",
    "            merged.append(interval)\n",
    "        else:\n",
    "        # otherwise, there is overlap, so we merge the current and previous\n",
    "        # intervals.\n",
    "            merged[-1][1] = max(merged[-1][1], interval[1])\n",
    "            merged[-1][2].update(interval[2])\n",
    "    lst = []\n",
    "    for x in merged:\n",
    "        x[2]['interval'] = [x[0], x[1]]\n",
    "        lst.append(x[2])\n",
    "    # test code, if we got here then we should save last dfs\n",
    "    last_AG = AG_df_hash\n",
    "    last_DC = DC_df_hash\n",
    "    tmp_df = pd.DataFrame(lst).set_index('interval').fillna(-1)\n",
    "    IAA_f1_score[h] = f1_score(tmp_df['AG'], tmp_df['DC'], average='weighted')\n",
    "\n",
    "    '''for ag_idx, ag in enumerate(lst_AG):\n",
    "        for dc_idx, dc in enumerate(lst_DC):\n",
    "            s1 = ag['start']\n",
    "            s2 = dc['start']\n",
    "            e1 = ag['end']\n",
    "            e2 = dc['end']\n",
    "            # any overlap\n",
    "            if (s1 <= e2) and (s2 <= e1):\n",
    "                matches[h]['binary_absolute'].append(True if s1 == s2 and e1 == e2 else False)\n",
    "                matches[h]['any_overlap'].append(True) # true because we are in this if statement\n",
    "                matches[h]['levenshtein_distance'].append(nltk.edit_distance(AG_df_hash.iloc[ag_idx,]['text'][s1:e1+1], DC_df_hash.iloc[dc_idx]['text'][s2:e2+1]))\n",
    "                matches[h]['label_match'].append([lst_AG[ag_idx]['label'], lst_DC[dc_idx]['label']])\n",
    "                matches[h]['annotator_a_span'].append(ag)\n",
    "                matches[h]['annotator_b_span'].append(dc)'''\n",
    "\n",
    "        "
   ]
  },
  {
   "cell_type": "code",
   "execution_count": 490,
   "id": "6fc1ae8e",
   "metadata": {},
   "outputs": [
    {
     "name": "stdout",
     "output_type": "stream",
     "text": [
      "ALTERED MENTAL STATUS (NOT DELIRIUM)\n",
      " .H/O CARDIOMYOPATHY, OTHER\n",
      " RESPIRATORY FAILURE, ACUTE (NOT ARDS/[**Doctor Last Name 76**])\n",
      "   This is a 75 yo M with [**Last Name (LF) 7287**], [**First Name3 (LF) **] 15%, afib on coumadin, s/p pacer\n",
      "   placement, admitted from [**Hospital1 **] with RLL pna and respiratory distress.\n",
      "Leukocytosis.  Likely secondary to SBO, but will evaluate for\n",
      "   infectious sources.  Also has infiltrate on CXR, ?aspiration\n",
      "   pneumonitis versus pneumonia.\n",
      "   - f/u urine, blood, sputum cultures\n",
      "   - monitor fever curve, wbc\n",
      "   - hold off on Abx for now, but consider if febrile or has worsening\n",
      "   respiratory symptoms\n",
      "Ms [**Known lastname 11751**] is a 45 yo woman with pmh of DM1, CAD s/p CABG and PCI,\n",
      "   ESRD s/p living-related kidney transplant in [**10-31**], and recent\n",
      "   hospitalization for septic arthritis here with acute renal failure,\n",
      "   acute diastolic heart failure with newly diagnosed severe MR and\n",
      "   pulmonary hypertension.\n",
      "84 yoM with a history of CAD, ischemic cardiomyopathy, PVD and [**Hospital 2092**]\n",
      "   transferred to unit with septic shock.\n",
      "This [**Age over 90 **]M with CAD, dementia, afib, and prior strokes presents with\n",
      "   hypotension and respiratory distress.\n",
      "Assesment: 71 y/o M with h/o recent right MCA CVA stroke hospital\n",
      "   course c/b bilateral pulmonary emboli, VAP s/p treatment with zosyn,\n",
      "   now admitted with hemorrhagic 1.1cm focus in right temporal lobe and\n",
      "   fever and hypotension with sepsis as likely etiology\n",
      "73 year old male with CAD, aortic stenosis, VT/VF arrest s/p ICD and\n",
      "   ablation, CHF (EF 20%) s/p BiV pacer, Afib on coumadin, CRI who\n",
      "   presents after recent discharge with multiple episodes of VT.\n",
      "71 year old male with crypotogenic cirrhosis, HCC s/p cyberknife,\n",
      "   started on lasix and spironolactone in [**Month (only) 2877**] for hepatic\n",
      "   encephalopathy and worsening edema and ascites with reported 25lb\n",
      "   weight loss and resolution of peripheral edema and improvement in\n",
      "   abdominal girth who presents with 1 week of weakness, found to have\n",
      "   hypotension and hyponatremia.\n",
      "22yo woman with h/o IDDM admitted with DKA most likely due to poor\n",
      "   medication compliance.\n",
      "56yo man w/ hx of MVP, now presenting w/ fevers, chills and malaise, w/\n",
      "   cough prod of clr/bld streaked sputum and worsening MR.\n"
     ]
    },
    {
     "data": {
      "text/plain": [
       "[None, None, None, None, None, None, None, None, None, None]"
      ]
     },
     "execution_count": 490,
     "metadata": {},
     "output_type": "execute_result"
    }
   ],
   "source": [
    "\n",
    "[print(x['text']) for x in saved_annotations]"
   ]
  },
  {
   "cell_type": "code",
   "execution_count": 476,
   "id": "ca063cda",
   "metadata": {},
   "outputs": [],
   "source": [
    "import json\n",
    "with open('random_10_samples_n2c2.json', 'w') as outfile:\n",
    "    json.dump(saved_annotations, outfile)"
   ]
  },
  {
   "cell_type": "code",
   "execution_count": 1,
   "id": "9f2a4ebf",
   "metadata": {},
   "outputs": [
    {
     "ename": "NameError",
     "evalue": "name 'np' is not defined",
     "output_type": "error",
     "traceback": [
      "\u001b[0;31m---------------------------------------------------------------------------\u001b[0m",
      "\u001b[0;31mNameError\u001b[0m                                 Traceback (most recent call last)",
      "Cell \u001b[0;32mIn [1], line 1\u001b[0m\n\u001b[0;32m----> 1\u001b[0m \u001b[43mnp\u001b[49m\u001b[38;5;241m.\u001b[39mmean(\u001b[38;5;28mlist\u001b[39m(IAA_f1_score\u001b[38;5;241m.\u001b[39mvalues()))\n",
      "\u001b[0;31mNameError\u001b[0m: name 'np' is not defined"
     ]
    }
   ],
   "source": [
    "np.mean(list(IAA_f1_score.values()))"
   ]
  },
  {
   "cell_type": "code",
   "execution_count": 440,
   "id": "190f4edb",
   "metadata": {},
   "outputs": [
    {
     "data": {
      "text/plain": [
       "[{'start': 2,\n",
       "  'end': 7,\n",
       "  'text': 'STEMI',\n",
       "  'source': '/home/kl533/n2c2/models/plan_subsection_model/model-best-fixed/',\n",
       "  'input_hash': 1561130997,\n",
       "  'token_start': 1,\n",
       "  'token_end': 1,\n",
       "  'label': 'problem'},\n",
       " {'start': 23,\n",
       "  'end': 54,\n",
       "  'token_start': 6,\n",
       "  'token_end': 15,\n",
       "  'label': 'complication_related_to_problem'},\n",
       " {'start': 123,\n",
       "  'end': 140,\n",
       "  'token_start': 39,\n",
       "  'token_end': 42,\n",
       "  'label': 'event_related_to_problem'},\n",
       " {'start': 340,\n",
       "  'end': 354,\n",
       "  'token_start': 89,\n",
       "  'token_end': 90,\n",
       "  'label': 'complication_related_to_problem'}]"
      ]
     },
     "execution_count": 440,
     "metadata": {},
     "output_type": "execute_result"
    }
   ],
   "source": [
    "last_AG['spans']"
   ]
  },
  {
   "cell_type": "code",
   "execution_count": 442,
   "id": "2114de79",
   "metadata": {},
   "outputs": [
    {
     "data": {
      "text/plain": [
       "[{'start': 2,\n",
       "  'end': 7,\n",
       "  'text': 'STEMI',\n",
       "  'source': '/home/kl533/n2c2/models/plan_subsection_model/model-best-fixed/',\n",
       "  'input_hash': 1561130997,\n",
       "  'token_start': 1,\n",
       "  'token_end': 1,\n",
       "  'label': 'problem'},\n",
       " {'start': 10,\n",
       "  'end': 54,\n",
       "  'token_start': 4,\n",
       "  'token_end': 15,\n",
       "  'label': 'complication_related_to_problem'},\n",
       " {'start': 57,\n",
       "  'end': 78,\n",
       "  'token_start': 18,\n",
       "  'token_end': 24,\n",
       "  'label': 'complication_related_to_problem'},\n",
       " {'start': 81,\n",
       "  'end': 92,\n",
       "  'token_start': 27,\n",
       "  'token_end': 31,\n",
       "  'label': 'complication_related_to_problem'},\n",
       " {'start': 159,\n",
       "  'end': 208,\n",
       "  'token_start': 48,\n",
       "  'token_end': 55,\n",
       "  'label': 'complication_related_to_problem'},\n",
       " {'start': 211,\n",
       "  'end': 252,\n",
       "  'token_start': 58,\n",
       "  'token_end': 66,\n",
       "  'label': 'complication_related_to_problem'},\n",
       " {'start': 255,\n",
       "  'end': 328,\n",
       "  'token_start': 69,\n",
       "  'token_end': 82,\n",
       "  'label': 'complication_related_to_problem'},\n",
       " {'start': 331,\n",
       "  'end': 362,\n",
       "  'token_start': 85,\n",
       "  'token_end': 92,\n",
       "  'label': 'event_related_to_problem'},\n",
       " {'start': 367,\n",
       "  'end': 403,\n",
       "  'token_start': 95,\n",
       "  'token_end': 97,\n",
       "  'label': 'event_related_to_problem'}]"
      ]
     },
     "execution_count": 442,
     "metadata": {},
     "output_type": "execute_result"
    }
   ],
   "source": [
    "last_DC['spans']"
   ]
  },
  {
   "cell_type": "code",
   "execution_count": 441,
   "id": "76f06a7f",
   "metadata": {},
   "outputs": [
    {
     "data": {
      "text/plain": [
       "619    [{'start': 0, 'end': 3, 'token_start': 0, 'tok...\n",
       "Name: spans, dtype: object"
      ]
     },
     "execution_count": 441,
     "metadata": {},
     "output_type": "execute_result"
    }
   ],
   "source": [
    "AG_df_hash['spans']"
   ]
  },
  {
   "cell_type": "code",
   "execution_count": 438,
   "id": "9bc48975",
   "metadata": {},
   "outputs": [
    {
     "data": {
      "text/plain": [
       "Series([], Name: spans, dtype: object)"
      ]
     },
     "execution_count": 438,
     "metadata": {},
     "output_type": "execute_result"
    }
   ],
   "source": [
    "DC_df_hash['spans']"
   ]
  },
  {
   "cell_type": "code",
   "execution_count": 428,
   "id": "a10b42cc",
   "metadata": {},
   "outputs": [
    {
     "data": {
      "text/html": [
       "<div>\n",
       "<style scoped>\n",
       "    .dataframe tbody tr th:only-of-type {\n",
       "        vertical-align: middle;\n",
       "    }\n",
       "\n",
       "    .dataframe tbody tr th {\n",
       "        vertical-align: top;\n",
       "    }\n",
       "\n",
       "    .dataframe thead th {\n",
       "        text-align: right;\n",
       "    }\n",
       "</style>\n",
       "<table border=\"1\" class=\"dataframe\">\n",
       "  <thead>\n",
       "    <tr style=\"text-align: right;\">\n",
       "      <th></th>\n",
       "      <th>AG</th>\n",
       "      <th>DC</th>\n",
       "    </tr>\n",
       "    <tr>\n",
       "      <th>interval</th>\n",
       "      <th></th>\n",
       "      <th></th>\n",
       "    </tr>\n",
       "  </thead>\n",
       "  <tbody>\n",
       "    <tr>\n",
       "      <th>[2, 7]</th>\n",
       "      <td>0.0</td>\n",
       "      <td>0.0</td>\n",
       "    </tr>\n",
       "    <tr>\n",
       "      <th>[10, 54]</th>\n",
       "      <td>1.0</td>\n",
       "      <td>1.0</td>\n",
       "    </tr>\n",
       "    <tr>\n",
       "      <th>[57, 78]</th>\n",
       "      <td>-1.0</td>\n",
       "      <td>1.0</td>\n",
       "    </tr>\n",
       "    <tr>\n",
       "      <th>[81, 92]</th>\n",
       "      <td>-1.0</td>\n",
       "      <td>1.0</td>\n",
       "    </tr>\n",
       "    <tr>\n",
       "      <th>[123, 140]</th>\n",
       "      <td>2.0</td>\n",
       "      <td>-1.0</td>\n",
       "    </tr>\n",
       "    <tr>\n",
       "      <th>[159, 208]</th>\n",
       "      <td>-1.0</td>\n",
       "      <td>1.0</td>\n",
       "    </tr>\n",
       "    <tr>\n",
       "      <th>[211, 252]</th>\n",
       "      <td>-1.0</td>\n",
       "      <td>1.0</td>\n",
       "    </tr>\n",
       "    <tr>\n",
       "      <th>[255, 328]</th>\n",
       "      <td>-1.0</td>\n",
       "      <td>1.0</td>\n",
       "    </tr>\n",
       "    <tr>\n",
       "      <th>[331, 362]</th>\n",
       "      <td>1.0</td>\n",
       "      <td>2.0</td>\n",
       "    </tr>\n",
       "    <tr>\n",
       "      <th>[367, 403]</th>\n",
       "      <td>-1.0</td>\n",
       "      <td>2.0</td>\n",
       "    </tr>\n",
       "  </tbody>\n",
       "</table>\n",
       "</div>"
      ],
      "text/plain": [
       "             AG   DC\n",
       "interval            \n",
       "[2, 7]      0.0  0.0\n",
       "[10, 54]    1.0  1.0\n",
       "[57, 78]   -1.0  1.0\n",
       "[81, 92]   -1.0  1.0\n",
       "[123, 140]  2.0 -1.0\n",
       "[159, 208] -1.0  1.0\n",
       "[211, 252] -1.0  1.0\n",
       "[255, 328] -1.0  1.0\n",
       "[331, 362]  1.0  2.0\n",
       "[367, 403] -1.0  2.0"
      ]
     },
     "execution_count": 428,
     "metadata": {},
     "output_type": "execute_result"
    }
   ],
   "source": [
    "tmp_df"
   ]
  },
  {
   "cell_type": "code",
   "execution_count": 406,
   "id": "5b631500",
   "metadata": {},
   "outputs": [
    {
     "data": {
      "text/plain": [
       "text             # HIV - CD4 300s, VL undetectable.  concern fo...\n",
       "_input_hash                                              651456513\n",
       "_task_hash                                              -111059571\n",
       "_is_binary                                                   False\n",
       "tokens           [{'text': '#', 'start': 0, 'end': 1, 'id': 0, ...\n",
       "_view_id                                                ner_manual\n",
       "spans            [{'start': 2, 'end': 5, 'text': 'HIV', 'source...\n",
       "answer                                                      accept\n",
       "_timestamp                                              1655754986\n",
       "_annotator_id                           n2c2_planSubsection-dc2249\n",
       "_session_id                             n2c2_planSubsection-dc2249\n",
       "Name: 379, dtype: object"
      ]
     },
     "execution_count": 406,
     "metadata": {},
     "output_type": "execute_result"
    }
   ],
   "source": [
    "DC_df_hash"
   ]
  },
  {
   "cell_type": "code",
   "execution_count": 405,
   "id": "6d39cf21",
   "metadata": {},
   "outputs": [
    {
     "data": {
      "text/plain": [
       "array([False, False, False, False])"
      ]
     },
     "execution_count": 405,
     "metadata": {},
     "output_type": "execute_result"
    }
   ],
   "source": [
    "pd.isna(DC_df_hash['spans'])"
   ]
  },
  {
   "cell_type": "code",
   "execution_count": 404,
   "id": "8a6e9b7b",
   "metadata": {},
   "outputs": [
    {
     "data": {
      "text/plain": [
       "True"
      ]
     },
     "execution_count": 404,
     "metadata": {},
     "output_type": "execute_result"
    }
   ],
   "source": [
    "pd.isna(DC.iloc[2]['spans'])"
   ]
  },
  {
   "cell_type": "code",
   "execution_count": 415,
   "id": "dc8c3cf7",
   "metadata": {},
   "outputs": [
    {
     "data": {
      "text/plain": [
       "True"
      ]
     },
     "execution_count": 415,
     "metadata": {},
     "output_type": "execute_result"
    }
   ],
   "source": [
    "type(DC.iloc[2]['spans']) == float"
   ]
  },
  {
   "cell_type": "code",
   "execution_count": 380,
   "id": "ffba7513",
   "metadata": {},
   "outputs": [
    {
     "data": {
      "text/plain": [
       "True"
      ]
     },
     "execution_count": 380,
     "metadata": {},
     "output_type": "execute_result"
    }
   ],
   "source": [
    "len(DC_df_hash) == 0 or len(AG_df_hash) == 0"
   ]
  },
  {
   "cell_type": "code",
   "execution_count": 378,
   "id": "1eae477b",
   "metadata": {},
   "outputs": [
    {
     "ename": "ValueError",
     "evalue": "The truth value of a Series is ambiguous. Use a.empty, a.bool(), a.item(), a.any() or a.all().",
     "output_type": "error",
     "traceback": [
      "\u001b[1;31m---------------------------------------------------------------------------\u001b[0m",
      "\u001b[1;31mValueError\u001b[0m                                Traceback (most recent call last)",
      "\u001b[1;32m<ipython-input-378-07a57ab3d153>\u001b[0m in \u001b[0;36m<module>\u001b[1;34m\u001b[0m\n\u001b[1;32m----> 1\u001b[1;33m \u001b[1;33m(\u001b[0m\u001b[0mpd\u001b[0m\u001b[1;33m.\u001b[0m\u001b[0misna\u001b[0m\u001b[1;33m(\u001b[0m\u001b[0mDC_df_hash\u001b[0m\u001b[1;33m[\u001b[0m\u001b[1;34m'spans'\u001b[0m\u001b[1;33m]\u001b[0m\u001b[1;33m)\u001b[0m \u001b[1;33m==\u001b[0m \u001b[1;32mFalse\u001b[0m\u001b[1;33m)\u001b[0m\u001b[1;33m.\u001b[0m\u001b[0mbool\u001b[0m\u001b[1;33m(\u001b[0m\u001b[1;33m)\u001b[0m\u001b[1;33m\u001b[0m\u001b[1;33m\u001b[0m\u001b[0m\n\u001b[0m",
      "\u001b[1;32m~\\Anaconda3\\lib\\site-packages\\pandas\\core\\generic.py\u001b[0m in \u001b[0;36mbool\u001b[1;34m(self)\u001b[0m\n\u001b[0;32m   1583\u001b[0m             )\n\u001b[0;32m   1584\u001b[0m \u001b[1;33m\u001b[0m\u001b[0m\n\u001b[1;32m-> 1585\u001b[1;33m         \u001b[0mself\u001b[0m\u001b[1;33m.\u001b[0m\u001b[0m__nonzero__\u001b[0m\u001b[1;33m(\u001b[0m\u001b[1;33m)\u001b[0m\u001b[1;33m\u001b[0m\u001b[1;33m\u001b[0m\u001b[0m\n\u001b[0m\u001b[0;32m   1586\u001b[0m \u001b[1;33m\u001b[0m\u001b[0m\n\u001b[0;32m   1587\u001b[0m     \u001b[1;33m@\u001b[0m\u001b[0mfinal\u001b[0m\u001b[1;33m\u001b[0m\u001b[1;33m\u001b[0m\u001b[0m\n",
      "\u001b[1;32m~\\Anaconda3\\lib\\site-packages\\pandas\\core\\generic.py\u001b[0m in \u001b[0;36m__nonzero__\u001b[1;34m(self)\u001b[0m\n\u001b[0;32m   1533\u001b[0m     \u001b[1;33m@\u001b[0m\u001b[0mfinal\u001b[0m\u001b[1;33m\u001b[0m\u001b[1;33m\u001b[0m\u001b[0m\n\u001b[0;32m   1534\u001b[0m     \u001b[1;32mdef\u001b[0m \u001b[0m__nonzero__\u001b[0m\u001b[1;33m(\u001b[0m\u001b[0mself\u001b[0m\u001b[1;33m)\u001b[0m\u001b[1;33m:\u001b[0m\u001b[1;33m\u001b[0m\u001b[1;33m\u001b[0m\u001b[0m\n\u001b[1;32m-> 1535\u001b[1;33m         raise ValueError(\n\u001b[0m\u001b[0;32m   1536\u001b[0m             \u001b[1;34mf\"The truth value of a {type(self).__name__} is ambiguous. \"\u001b[0m\u001b[1;33m\u001b[0m\u001b[1;33m\u001b[0m\u001b[0m\n\u001b[0;32m   1537\u001b[0m             \u001b[1;34m\"Use a.empty, a.bool(), a.item(), a.any() or a.all().\"\u001b[0m\u001b[1;33m\u001b[0m\u001b[1;33m\u001b[0m\u001b[0m\n",
      "\u001b[1;31mValueError\u001b[0m: The truth value of a Series is ambiguous. Use a.empty, a.bool(), a.item(), a.any() or a.all()."
     ]
    }
   ],
   "source": [
    "(pd.isna(DC_df_hash['spans']) == False).bool()"
   ]
  },
  {
   "cell_type": "code",
   "execution_count": 336,
   "id": "713c7d7d",
   "metadata": {},
   "outputs": [],
   "source": [
    "# if spans in the df, if spans are not NA and if the len of the span is larger than 0\n",
    "ann1 = (('spans' in AG_df_hash) and (pd.isna(AG_df_hash['spans']) == False).bool() and (len(AG_df_hash['spans'].values[0]) > 0))"
   ]
  },
  {
   "cell_type": "code",
   "execution_count": 346,
   "id": "2804db8c",
   "metadata": {},
   "outputs": [
    {
     "ename": "ValueError",
     "evalue": "The truth value of a Series is ambiguous. Use a.empty, a.bool(), a.item(), a.any() or a.all().",
     "output_type": "error",
     "traceback": [
      "\u001b[1;31m---------------------------------------------------------------------------\u001b[0m",
      "\u001b[1;31mValueError\u001b[0m                                Traceback (most recent call last)",
      "\u001b[1;32m<ipython-input-346-46f51a292fb5>\u001b[0m in \u001b[0;36m<module>\u001b[1;34m\u001b[0m\n\u001b[1;32m----> 1\u001b[1;33m \u001b[0mann2\u001b[0m \u001b[1;33m=\u001b[0m \u001b[1;33m(\u001b[0m\u001b[1;33m(\u001b[0m\u001b[1;34m'spans'\u001b[0m \u001b[1;32min\u001b[0m \u001b[0mDC_df_hash\u001b[0m\u001b[1;33m)\u001b[0m \u001b[1;32mand\u001b[0m \u001b[1;33m(\u001b[0m\u001b[0mpd\u001b[0m\u001b[1;33m.\u001b[0m\u001b[0misna\u001b[0m\u001b[1;33m(\u001b[0m\u001b[0mDC_df_hash\u001b[0m\u001b[1;33m[\u001b[0m\u001b[1;34m'spans'\u001b[0m\u001b[1;33m]\u001b[0m\u001b[1;33m)\u001b[0m \u001b[1;33m==\u001b[0m \u001b[1;32mFalse\u001b[0m\u001b[1;33m)\u001b[0m\u001b[1;33m.\u001b[0m\u001b[0mbool\u001b[0m\u001b[1;33m(\u001b[0m\u001b[1;33m)\u001b[0m \u001b[1;32mand\u001b[0m \u001b[1;33m(\u001b[0m\u001b[0mlen\u001b[0m\u001b[1;33m(\u001b[0m\u001b[0mDC_df_hash\u001b[0m\u001b[1;33m[\u001b[0m\u001b[1;34m'spans'\u001b[0m\u001b[1;33m]\u001b[0m\u001b[1;33m.\u001b[0m\u001b[0mvalues\u001b[0m\u001b[1;33m[\u001b[0m\u001b[1;36m0\u001b[0m\u001b[1;33m]\u001b[0m\u001b[1;33m)\u001b[0m \u001b[1;33m>\u001b[0m \u001b[1;36m0\u001b[0m\u001b[1;33m)\u001b[0m\u001b[1;33m)\u001b[0m\u001b[1;33m\u001b[0m\u001b[1;33m\u001b[0m\u001b[0m\n\u001b[0m",
      "\u001b[1;32m~\\Anaconda3\\lib\\site-packages\\pandas\\core\\generic.py\u001b[0m in \u001b[0;36mbool\u001b[1;34m(self)\u001b[0m\n\u001b[0;32m   1583\u001b[0m             )\n\u001b[0;32m   1584\u001b[0m \u001b[1;33m\u001b[0m\u001b[0m\n\u001b[1;32m-> 1585\u001b[1;33m         \u001b[0mself\u001b[0m\u001b[1;33m.\u001b[0m\u001b[0m__nonzero__\u001b[0m\u001b[1;33m(\u001b[0m\u001b[1;33m)\u001b[0m\u001b[1;33m\u001b[0m\u001b[1;33m\u001b[0m\u001b[0m\n\u001b[0m\u001b[0;32m   1586\u001b[0m \u001b[1;33m\u001b[0m\u001b[0m\n\u001b[0;32m   1587\u001b[0m     \u001b[1;33m@\u001b[0m\u001b[0mfinal\u001b[0m\u001b[1;33m\u001b[0m\u001b[1;33m\u001b[0m\u001b[0m\n",
      "\u001b[1;32m~\\Anaconda3\\lib\\site-packages\\pandas\\core\\generic.py\u001b[0m in \u001b[0;36m__nonzero__\u001b[1;34m(self)\u001b[0m\n\u001b[0;32m   1533\u001b[0m     \u001b[1;33m@\u001b[0m\u001b[0mfinal\u001b[0m\u001b[1;33m\u001b[0m\u001b[1;33m\u001b[0m\u001b[0m\n\u001b[0;32m   1534\u001b[0m     \u001b[1;32mdef\u001b[0m \u001b[0m__nonzero__\u001b[0m\u001b[1;33m(\u001b[0m\u001b[0mself\u001b[0m\u001b[1;33m)\u001b[0m\u001b[1;33m:\u001b[0m\u001b[1;33m\u001b[0m\u001b[1;33m\u001b[0m\u001b[0m\n\u001b[1;32m-> 1535\u001b[1;33m         raise ValueError(\n\u001b[0m\u001b[0;32m   1536\u001b[0m             \u001b[1;34mf\"The truth value of a {type(self).__name__} is ambiguous. \"\u001b[0m\u001b[1;33m\u001b[0m\u001b[1;33m\u001b[0m\u001b[0m\n\u001b[0;32m   1537\u001b[0m             \u001b[1;34m\"Use a.empty, a.bool(), a.item(), a.any() or a.all().\"\u001b[0m\u001b[1;33m\u001b[0m\u001b[1;33m\u001b[0m\u001b[0m\n",
      "\u001b[1;31mValueError\u001b[0m: The truth value of a Series is ambiguous. Use a.empty, a.bool(), a.item(), a.any() or a.all()."
     ]
    }
   ],
   "source": [
    "ann2 = (('spans' in DC_df_hash) and (pd.isna(DC_df_hash['spans']) == False).bool() and (len(DC_df_hash['spans'].values[0]) > 0))"
   ]
  },
  {
   "cell_type": "code",
   "execution_count": 389,
   "id": "1513921d",
   "metadata": {},
   "outputs": [
    {
     "data": {
      "text/plain": [
       "True"
      ]
     },
     "execution_count": 389,
     "metadata": {},
     "output_type": "execute_result"
    }
   ],
   "source": [
    "# checks if is na and if the len == 0. if any of these two are true continue as there is no annotation for the sample\n",
    "pd.isna(DC.iloc[2]['spans']) or len(DC.loc[448]['spans']) == 0"
   ]
  },
  {
   "cell_type": "code",
   "execution_count": 390,
   "id": "248ed2de",
   "metadata": {},
   "outputs": [
    {
     "data": {
      "text/plain": [
       "True"
      ]
     },
     "execution_count": 390,
     "metadata": {},
     "output_type": "execute_result"
    }
   ],
   "source": [
    "pd.isna(DC.iloc[2]['spans'])"
   ]
  },
  {
   "cell_type": "code",
   "execution_count": 363,
   "id": "f228889a",
   "metadata": {},
   "outputs": [
    {
     "data": {
      "text/plain": [
       "nan"
      ]
     },
     "execution_count": 363,
     "metadata": {},
     "output_type": "execute_result"
    }
   ],
   "source": [
    "DC.iloc[2]['spans']"
   ]
  },
  {
   "cell_type": "code",
   "execution_count": 348,
   "id": "db47409e",
   "metadata": {},
   "outputs": [
    {
     "data": {
      "text/plain": [
       "False"
      ]
     },
     "execution_count": 348,
     "metadata": {},
     "output_type": "execute_result"
    }
   ],
   "source": [
    "DC_df_hash['spans'].any()"
   ]
  },
  {
   "cell_type": "code",
   "execution_count": 349,
   "id": "eee83c60",
   "metadata": {},
   "outputs": [
    {
     "data": {
      "text/plain": [
       "True"
      ]
     },
     "execution_count": 349,
     "metadata": {},
     "output_type": "execute_result"
    }
   ],
   "source": [
    "AG_df_hash['spans'].any()"
   ]
  },
  {
   "cell_type": "code",
   "execution_count": null,
   "id": "db8ce322",
   "metadata": {},
   "outputs": [],
   "source": []
  },
  {
   "cell_type": "code",
   "execution_count": 339,
   "id": "cc25e532",
   "metadata": {},
   "outputs": [
    {
     "data": {
      "text/plain": [
       "False"
      ]
     },
     "execution_count": 339,
     "metadata": {},
     "output_type": "execute_result"
    }
   ],
   "source": [
    "ann1 and ann2"
   ]
  },
  {
   "cell_type": "code",
   "execution_count": 321,
   "id": "03ece7e7",
   "metadata": {},
   "outputs": [
    {
     "data": {
      "text/plain": [
       "6    True\n",
       "Name: spans, dtype: bool"
      ]
     },
     "execution_count": 321,
     "metadata": {},
     "output_type": "execute_result"
    }
   ],
   "source": [
    "pd.isna(DC_df_hash['spans'])"
   ]
  },
  {
   "cell_type": "code",
   "execution_count": 322,
   "id": "c0443ca8",
   "metadata": {},
   "outputs": [
    {
     "data": {
      "text/plain": [
       "6    NaN\n",
       "Name: spans, dtype: object"
      ]
     },
     "execution_count": 322,
     "metadata": {},
     "output_type": "execute_result"
    }
   ],
   "source": [
    "DC_df_hash['spans']"
   ]
  },
  {
   "cell_type": "code",
   "execution_count": 294,
   "id": "86bc6beb",
   "metadata": {},
   "outputs": [
    {
     "data": {
      "text/plain": [
       "0"
      ]
     },
     "execution_count": 294,
     "metadata": {},
     "output_type": "execute_result"
    }
   ],
   "source": [
    "len(AG_df_hash['spans'].values[0])"
   ]
  },
  {
   "cell_type": "code",
   "execution_count": 255,
   "id": "64475b6f",
   "metadata": {},
   "outputs": [],
   "source": [
    "tmp_df = pd.DataFrame(lst).set_index('interval').fillna(-1)"
   ]
  },
  {
   "cell_type": "code",
   "execution_count": 243,
   "id": "581c0f08",
   "metadata": {},
   "outputs": [],
   "source": [
    "tmp_df = tmp_df.set_index('interval')"
   ]
  },
  {
   "cell_type": "code",
   "execution_count": 249,
   "id": "6ba6b082",
   "metadata": {},
   "outputs": [],
   "source": [
    "tmp_df = tmp_df.fillna(-1)"
   ]
  },
  {
   "cell_type": "code",
   "execution_count": 256,
   "id": "e31d5817",
   "metadata": {},
   "outputs": [
    {
     "data": {
      "text/html": [
       "<div>\n",
       "<style scoped>\n",
       "    .dataframe tbody tr th:only-of-type {\n",
       "        vertical-align: middle;\n",
       "    }\n",
       "\n",
       "    .dataframe tbody tr th {\n",
       "        vertical-align: top;\n",
       "    }\n",
       "\n",
       "    .dataframe thead th {\n",
       "        text-align: right;\n",
       "    }\n",
       "</style>\n",
       "<table border=\"1\" class=\"dataframe\">\n",
       "  <thead>\n",
       "    <tr style=\"text-align: right;\">\n",
       "      <th></th>\n",
       "      <th>AG</th>\n",
       "      <th>DC</th>\n",
       "    </tr>\n",
       "    <tr>\n",
       "      <th>interval</th>\n",
       "      <th></th>\n",
       "      <th></th>\n",
       "    </tr>\n",
       "  </thead>\n",
       "  <tbody>\n",
       "    <tr>\n",
       "      <th>[2, 5]</th>\n",
       "      <td>0.0</td>\n",
       "      <td>0</td>\n",
       "    </tr>\n",
       "    <tr>\n",
       "      <th>[8, 16]</th>\n",
       "      <td>-1.0</td>\n",
       "      <td>1</td>\n",
       "    </tr>\n",
       "    <tr>\n",
       "      <th>[18, 33]</th>\n",
       "      <td>-1.0</td>\n",
       "      <td>1</td>\n",
       "    </tr>\n",
       "    <tr>\n",
       "      <th>[36, 64]</th>\n",
       "      <td>-1.0</td>\n",
       "      <td>1</td>\n",
       "    </tr>\n",
       "  </tbody>\n",
       "</table>\n",
       "</div>"
      ],
      "text/plain": [
       "           AG  DC\n",
       "interval         \n",
       "[2, 5]    0.0   0\n",
       "[8, 16]  -1.0   1\n",
       "[18, 33] -1.0   1\n",
       "[36, 64] -1.0   1"
      ]
     },
     "execution_count": 256,
     "metadata": {},
     "output_type": "execute_result"
    }
   ],
   "source": [
    "tmp_df"
   ]
  },
  {
   "cell_type": "code",
   "execution_count": 252,
   "id": "c5eddffc",
   "metadata": {},
   "outputs": [
    {
     "data": {
      "text/plain": [
       "0.25"
      ]
     },
     "execution_count": 252,
     "metadata": {},
     "output_type": "execute_result"
    }
   ],
   "source": [
    "from sklearn.metrics import f1_score\n",
    "f1_score(tmp_df['AG'], tmp_df['DC'], average='weighted')"
   ]
  },
  {
   "cell_type": "code",
   "execution_count": 210,
   "id": "1acdf708",
   "metadata": {},
   "outputs": [],
   "source": [
    "x[2]['interval'] = [x[1], x[2]]"
   ]
  },
  {
   "cell_type": "code",
   "execution_count": 206,
   "id": "d38f2054",
   "metadata": {},
   "outputs": [
    {
     "data": {
      "text/html": [
       "<div>\n",
       "<style scoped>\n",
       "    .dataframe tbody tr th:only-of-type {\n",
       "        vertical-align: middle;\n",
       "    }\n",
       "\n",
       "    .dataframe tbody tr th {\n",
       "        vertical-align: top;\n",
       "    }\n",
       "\n",
       "    .dataframe thead th {\n",
       "        text-align: right;\n",
       "    }\n",
       "</style>\n",
       "<table border=\"1\" class=\"dataframe\">\n",
       "  <thead>\n",
       "    <tr style=\"text-align: right;\">\n",
       "      <th></th>\n",
       "      <th>cs</th>\n",
       "      <th>ce</th>\n",
       "      <th>AG</th>\n",
       "      <th>DC</th>\n",
       "    </tr>\n",
       "  </thead>\n",
       "  <tbody>\n",
       "    <tr>\n",
       "      <th>0</th>\n",
       "      <td>2</td>\n",
       "      <td>5</td>\n",
       "      <td>problem</td>\n",
       "      <td>problem</td>\n",
       "    </tr>\n",
       "    <tr>\n",
       "      <th>1</th>\n",
       "      <td>8</td>\n",
       "      <td>16</td>\n",
       "      <td>NaN</td>\n",
       "      <td>complication_related_to_problem</td>\n",
       "    </tr>\n",
       "    <tr>\n",
       "      <th>2</th>\n",
       "      <td>18</td>\n",
       "      <td>33</td>\n",
       "      <td>NaN</td>\n",
       "      <td>complication_related_to_problem</td>\n",
       "    </tr>\n",
       "    <tr>\n",
       "      <th>3</th>\n",
       "      <td>36</td>\n",
       "      <td>64</td>\n",
       "      <td>NaN</td>\n",
       "      <td>complication_related_to_problem</td>\n",
       "    </tr>\n",
       "  </tbody>\n",
       "</table>\n",
       "</div>"
      ],
      "text/plain": [
       "   cs  ce       AG                               DC\n",
       "0   2   5  problem                          problem\n",
       "1   8  16      NaN  complication_related_to_problem\n",
       "2  18  33      NaN  complication_related_to_problem\n",
       "3  36  64      NaN  complication_related_to_problem"
      ]
     },
     "execution_count": 206,
     "metadata": {},
     "output_type": "execute_result"
    }
   ],
   "source": [
    "a = [{'cs':2, 'ce':5, 'AG': 'problem', 'DC': 'problem'},\n",
    " {'cs':8, 'ce':16, 'DC': 'complication_related_to_problem'},\n",
    " {'cs':18, 'ce':33, 'DC': 'complication_related_to_problem'},\n",
    " {'cs':36, 'ce':64, 'DC': 'complication_related_to_problem'}]\n",
    "pd.DataFrame(a)"
   ]
  },
  {
   "cell_type": "code",
   "execution_count": 201,
   "id": "8d82172e",
   "metadata": {},
   "outputs": [
    {
     "data": {
      "text/html": [
       "<div>\n",
       "<style scoped>\n",
       "    .dataframe tbody tr th:only-of-type {\n",
       "        vertical-align: middle;\n",
       "    }\n",
       "\n",
       "    .dataframe tbody tr th {\n",
       "        vertical-align: top;\n",
       "    }\n",
       "\n",
       "    .dataframe thead th {\n",
       "        text-align: right;\n",
       "    }\n",
       "</style>\n",
       "<table border=\"1\" class=\"dataframe\">\n",
       "  <thead>\n",
       "    <tr style=\"text-align: right;\">\n",
       "      <th></th>\n",
       "      <th>AG</th>\n",
       "      <th>DC</th>\n",
       "    </tr>\n",
       "  </thead>\n",
       "  <tbody>\n",
       "    <tr>\n",
       "      <th>0</th>\n",
       "      <td>problem</td>\n",
       "      <td>problem</td>\n",
       "    </tr>\n",
       "    <tr>\n",
       "      <th>1</th>\n",
       "      <td>NaN</td>\n",
       "      <td>complication_related_to_problem</td>\n",
       "    </tr>\n",
       "    <tr>\n",
       "      <th>2</th>\n",
       "      <td>NaN</td>\n",
       "      <td>complication_related_to_problem</td>\n",
       "    </tr>\n",
       "    <tr>\n",
       "      <th>3</th>\n",
       "      <td>NaN</td>\n",
       "      <td>complication_related_to_problem</td>\n",
       "    </tr>\n",
       "  </tbody>\n",
       "</table>\n",
       "</div>"
      ],
      "text/plain": [
       "        AG                               DC\n",
       "0  problem                          problem\n",
       "1      NaN  complication_related_to_problem\n",
       "2      NaN  complication_related_to_problem\n",
       "3      NaN  complication_related_to_problem"
      ]
     },
     "execution_count": 201,
     "metadata": {},
     "output_type": "execute_result"
    }
   ],
   "source": [
    "pd.DataFrame([x[2] for x in merged])"
   ]
  },
  {
   "cell_type": "code",
   "execution_count": 190,
   "id": "c9098d37",
   "metadata": {},
   "outputs": [
    {
     "data": {
      "text/html": [
       "<div>\n",
       "<style scoped>\n",
       "    .dataframe tbody tr th:only-of-type {\n",
       "        vertical-align: middle;\n",
       "    }\n",
       "\n",
       "    .dataframe tbody tr th {\n",
       "        vertical-align: top;\n",
       "    }\n",
       "\n",
       "    .dataframe thead th {\n",
       "        text-align: right;\n",
       "    }\n",
       "</style>\n",
       "<table border=\"1\" class=\"dataframe\">\n",
       "  <thead>\n",
       "    <tr style=\"text-align: right;\">\n",
       "      <th></th>\n",
       "      <th>0</th>\n",
       "      <th>1</th>\n",
       "      <th>2</th>\n",
       "    </tr>\n",
       "  </thead>\n",
       "  <tbody>\n",
       "    <tr>\n",
       "      <th>0</th>\n",
       "      <td>2</td>\n",
       "      <td>5</td>\n",
       "      <td>{'AG': 'problem', 'DC': 'problem'}</td>\n",
       "    </tr>\n",
       "    <tr>\n",
       "      <th>1</th>\n",
       "      <td>8</td>\n",
       "      <td>16</td>\n",
       "      <td>{'DC': 'complication_related_to_problem'}</td>\n",
       "    </tr>\n",
       "    <tr>\n",
       "      <th>2</th>\n",
       "      <td>18</td>\n",
       "      <td>33</td>\n",
       "      <td>{'DC': 'complication_related_to_problem'}</td>\n",
       "    </tr>\n",
       "    <tr>\n",
       "      <th>3</th>\n",
       "      <td>36</td>\n",
       "      <td>64</td>\n",
       "      <td>{'DC': 'complication_related_to_problem'}</td>\n",
       "    </tr>\n",
       "  </tbody>\n",
       "</table>\n",
       "</div>"
      ],
      "text/plain": [
       "    0   1                                          2\n",
       "0   2   5         {'AG': 'problem', 'DC': 'problem'}\n",
       "1   8  16  {'DC': 'complication_related_to_problem'}\n",
       "2  18  33  {'DC': 'complication_related_to_problem'}\n",
       "3  36  64  {'DC': 'complication_related_to_problem'}"
      ]
     },
     "execution_count": 190,
     "metadata": {},
     "output_type": "execute_result"
    }
   ],
   "source": [
    "pd.DataFrame(merged)"
   ]
  },
  {
   "cell_type": "code",
   "execution_count": 163,
   "id": "1868cd94",
   "metadata": {},
   "outputs": [],
   "source": [
    "from sklearn.metrics import confusion_matrix\n",
    "import numpy as np\n",
    "DC_test = ['problem', 'complication_related_to_problem', 'complication_related_to_problem', 'complication', 'complication']\n",
    "AG_test = ['problem', 'problem', 'complication_related_to_problem', 'complication', 'complication']\n",
    "cm = confusion_matrix(DC_test, AG_test, labels=['problem', 'complication_related_to_problem', 'complication'])"
   ]
  },
  {
   "cell_type": "code",
   "execution_count": 164,
   "id": "c7e7c31c",
   "metadata": {},
   "outputs": [
    {
     "data": {
      "text/plain": [
       "array([[1, 0, 0],\n",
       "       [1, 1, 0],\n",
       "       [0, 0, 2]], dtype=int64)"
      ]
     },
     "execution_count": 164,
     "metadata": {},
     "output_type": "execute_result"
    }
   ],
   "source": [
    "cm"
   ]
  },
  {
   "cell_type": "code",
   "execution_count": 165,
   "id": "f65886e9",
   "metadata": {},
   "outputs": [],
   "source": [
    "sum_records = sum(sum(cm))\n",
    "sum_agreement = np.trace(cm)\n",
    "P_0 = sum_agreement/sum_records"
   ]
  },
  {
   "cell_type": "code",
   "execution_count": 166,
   "id": "6c512710",
   "metadata": {},
   "outputs": [
    {
     "data": {
      "text/plain": [
       "array([1, 1, 0], dtype=int64)"
      ]
     },
     "execution_count": 166,
     "metadata": {},
     "output_type": "execute_result"
    }
   ],
   "source": [
    "cm[:,0]"
   ]
  },
  {
   "cell_type": "code",
   "execution_count": 169,
   "id": "153ab4b3",
   "metadata": {},
   "outputs": [],
   "source": [
    "DC_annotation_sum = np.sum(cm, axis=0)\n",
    "AG_annotation_sum = np.sum(cm, axis=1)\n",
    "P_e = []\n",
    "for dc, ag in zip(DC_annotation_sum, AG_annotation_sum):\n",
    "    P_e.append((dc/sum_records) * (ag/sum_records))\n",
    "P_e = sum(P_e)\n",
    "K = (P_0-P_e)/(1-P_e)"
   ]
  },
  {
   "cell_type": "code",
   "execution_count": 170,
   "id": "6074e63e",
   "metadata": {},
   "outputs": [
    {
     "data": {
      "text/plain": [
       "0.7058823529411765"
      ]
     },
     "execution_count": 170,
     "metadata": {},
     "output_type": "execute_result"
    }
   ],
   "source": [
    "K"
   ]
  },
  {
   "cell_type": "code",
   "execution_count": 122,
   "id": "9ff6ac9b",
   "metadata": {},
   "outputs": [
    {
     "data": {
      "text/plain": [
       "[{'start': 2,\n",
       "  'end': 5,\n",
       "  'text': 'HIV',\n",
       "  'source': '/home/kl533/n2c2/models/plan_subsection_model/model-best-fixed/',\n",
       "  'input_hash': 651456513,\n",
       "  'token_start': 1,\n",
       "  'token_end': 1,\n",
       "  'label': 'problem'},\n",
       " {'start': 8,\n",
       "  'end': 16,\n",
       "  'token_start': 3,\n",
       "  'token_end': 4,\n",
       "  'label': 'complication_related_to_problem'},\n",
       " {'start': 18,\n",
       "  'end': 33,\n",
       "  'token_start': 6,\n",
       "  'token_end': 7,\n",
       "  'label': 'complication_related_to_problem'},\n",
       " {'start': 36,\n",
       "  'end': 64,\n",
       "  'token_start': 10,\n",
       "  'token_end': 13,\n",
       "  'label': 'complication_related_to_problem'}]"
      ]
     },
     "execution_count": 122,
     "metadata": {},
     "output_type": "execute_result"
    }
   ],
   "source": [
    "lst_DC"
   ]
  },
  {
   "cell_type": "code",
   "execution_count": 115,
   "id": "50789e75",
   "metadata": {},
   "outputs": [
    {
     "data": {
      "text/plain": [
       "array([list([{'token_start': 1, 'token_end': 1, 'start': 2, 'end': 5, 'text': 'HIV', 'label': 'problem', 'source': '/home/kl533/n2c2/models/plan_subsection_model/model-best-fixed/', 'input_hash': 651456513}])],\n",
       "      dtype=object)"
      ]
     },
     "execution_count": 115,
     "metadata": {},
     "output_type": "execute_result"
    }
   ],
   "source": [
    "AG_df_hash['spans'].values"
   ]
  },
  {
   "cell_type": "code",
   "execution_count": 109,
   "id": "5bfa144c",
   "metadata": {},
   "outputs": [
    {
     "data": {
      "text/plain": [
       "[{'token_start': 1,\n",
       "  'token_end': 1,\n",
       "  'start': 2,\n",
       "  'end': 5,\n",
       "  'text': 'HIV',\n",
       "  'label': 'problem',\n",
       "  'source': '/home/kl533/n2c2/models/plan_subsection_model/model-best-fixed/',\n",
       "  'input_hash': 651456513}]"
      ]
     },
     "execution_count": 109,
     "metadata": {},
     "output_type": "execute_result"
    }
   ],
   "source": [
    "lst_AG"
   ]
  },
  {
   "cell_type": "code",
   "execution_count": 108,
   "id": "c016f6b1",
   "metadata": {},
   "outputs": [
    {
     "data": {
      "text/plain": [
       "[{'start': 2,\n",
       "  'end': 5,\n",
       "  'text': 'HIV',\n",
       "  'source': '/home/kl533/n2c2/models/plan_subsection_model/model-best-fixed/',\n",
       "  'input_hash': 651456513,\n",
       "  'token_start': 1,\n",
       "  'token_end': 1,\n",
       "  'label': 'problem'},\n",
       " {'start': 8,\n",
       "  'end': 16,\n",
       "  'token_start': 3,\n",
       "  'token_end': 4,\n",
       "  'label': 'complication_related_to_problem'},\n",
       " {'start': 18,\n",
       "  'end': 33,\n",
       "  'token_start': 6,\n",
       "  'token_end': 7,\n",
       "  'label': 'complication_related_to_problem'},\n",
       " {'start': 36,\n",
       "  'end': 64,\n",
       "  'token_start': 10,\n",
       "  'token_end': 13,\n",
       "  'label': 'complication_related_to_problem'}]"
      ]
     },
     "execution_count": 108,
     "metadata": {},
     "output_type": "execute_result"
    }
   ],
   "source": [
    "lst_DC"
   ]
  },
  {
   "cell_type": "code",
   "execution_count": 69,
   "id": "b48feabc",
   "metadata": {},
   "outputs": [
    {
     "data": {
      "text/plain": [
       "'# h/o PE, on coumadin: Remote chance that a transient PE could explain\\n   current presentation of hypoxia and hypotension.\\n   -continue coumadin with goal INR [**1-30**]'"
      ]
     },
     "execution_count": 69,
     "metadata": {},
     "output_type": "execute_result"
    }
   ],
   "source": [
    "AG[AG['_input_hash'] == 1760190987]['text'].values[0]"
   ]
  },
  {
   "cell_type": "code",
   "execution_count": 96,
   "id": "48d39f96",
   "metadata": {},
   "outputs": [
    {
     "data": {
      "text/html": [
       "<div>\n",
       "<style scoped>\n",
       "    .dataframe tbody tr th:only-of-type {\n",
       "        vertical-align: middle;\n",
       "    }\n",
       "\n",
       "    .dataframe tbody tr th {\n",
       "        vertical-align: top;\n",
       "    }\n",
       "\n",
       "    .dataframe thead th {\n",
       "        text-align: right;\n",
       "    }\n",
       "</style>\n",
       "<table border=\"1\" class=\"dataframe\">\n",
       "  <thead>\n",
       "    <tr style=\"text-align: right;\">\n",
       "      <th></th>\n",
       "      <th>text</th>\n",
       "      <th>_input_hash</th>\n",
       "      <th>_task_hash</th>\n",
       "      <th>_is_binary</th>\n",
       "      <th>tokens</th>\n",
       "      <th>_view_id</th>\n",
       "      <th>spans</th>\n",
       "      <th>answer</th>\n",
       "      <th>_timestamp</th>\n",
       "      <th>_annotator_id</th>\n",
       "      <th>_session_id</th>\n",
       "    </tr>\n",
       "  </thead>\n",
       "  <tbody>\n",
       "    <tr>\n",
       "      <th>175</th>\n",
       "      <td># h/o PE, on coumadin: Remote chance that a tr...</td>\n",
       "      <td>1760190987</td>\n",
       "      <td>-1754486048</td>\n",
       "      <td>False</td>\n",
       "      <td>[{'text': '#', 'start': 0, 'end': 1, 'id': 0, ...</td>\n",
       "      <td>ner_manual</td>\n",
       "      <td>[{'start': 98, 'end': 105, 'token_start': 21, ...</td>\n",
       "      <td>accept</td>\n",
       "      <td>1655226936</td>\n",
       "      <td>n2c2_planSubsection-asg64</td>\n",
       "      <td>n2c2_planSubsection-asg64</td>\n",
       "    </tr>\n",
       "  </tbody>\n",
       "</table>\n",
       "</div>"
      ],
      "text/plain": [
       "                                                  text  _input_hash  \\\n",
       "175  # h/o PE, on coumadin: Remote chance that a tr...   1760190987   \n",
       "\n",
       "     _task_hash  _is_binary  \\\n",
       "175 -1754486048       False   \n",
       "\n",
       "                                                tokens    _view_id  \\\n",
       "175  [{'text': '#', 'start': 0, 'end': 1, 'id': 0, ...  ner_manual   \n",
       "\n",
       "                                                 spans  answer  _timestamp  \\\n",
       "175  [{'start': 98, 'end': 105, 'token_start': 21, ...  accept  1655226936   \n",
       "\n",
       "                 _annotator_id                _session_id  \n",
       "175  n2c2_planSubsection-asg64  n2c2_planSubsection-asg64  "
      ]
     },
     "execution_count": 96,
     "metadata": {},
     "output_type": "execute_result"
    }
   ],
   "source": [
    "AG[AG['_input_hash'] == 1760190987]"
   ]
  },
  {
   "cell_type": "code",
   "execution_count": 79,
   "id": "5abb0e6d",
   "metadata": {},
   "outputs": [
    {
     "data": {
      "text/plain": [
       "[{'start': 98,\n",
       "  'end': 105,\n",
       "  'token_start': 21,\n",
       "  'token_end': 21,\n",
       "  'label': 'complication_related_to_problem'},\n",
       " {'start': 110,\n",
       "  'end': 121,\n",
       "  'token_start': 23,\n",
       "  'token_end': 23,\n",
       "  'label': 'complication_related_to_problem'}]"
      ]
     },
     "execution_count": 79,
     "metadata": {},
     "output_type": "execute_result"
    }
   ],
   "source": [
    "AG[AG['_input_hash'] == 1760190987]['spans'].values[0]"
   ]
  },
  {
   "cell_type": "code",
   "execution_count": 71,
   "id": "dc2c3bae",
   "metadata": {},
   "outputs": [
    {
     "data": {
      "text/plain": [
       "'# h/o PE, on coumadin: Remote chance that a transient PE could explain\\n   current presentation of hypoxia and hypotension.\\n   -continue coumadin with goal INR [**1-30**]'"
      ]
     },
     "execution_count": 71,
     "metadata": {},
     "output_type": "execute_result"
    }
   ],
   "source": [
    "DC[DC['_input_hash'] == 1760190987]['text'].values[0]"
   ]
  },
  {
   "cell_type": "code",
   "execution_count": 80,
   "id": "d121650b",
   "metadata": {},
   "outputs": [
    {
     "data": {
      "text/plain": [
       "[{'start': 2, 'end': 8, 'token_start': 1, 'token_end': 4, 'label': 'problem'},\n",
       " {'start': 13,\n",
       "  'end': 21,\n",
       "  'token_start': 7,\n",
       "  'token_end': 7,\n",
       "  'label': 'complication_related_to_problem'},\n",
       " {'start': 98,\n",
       "  'end': 105,\n",
       "  'text': 'hypoxia',\n",
       "  'source': '/home/kl533/n2c2/models/plan_subsection_model/model-best-fixed/',\n",
       "  'input_hash': 1760190987,\n",
       "  'token_start': 21,\n",
       "  'token_end': 21,\n",
       "  'label': 'event_related_to_problem'},\n",
       " {'start': 110,\n",
       "  'end': 121,\n",
       "  'text': 'hypotension',\n",
       "  'source': '/home/kl533/n2c2/models/plan_subsection_model/model-best-fixed/',\n",
       "  'input_hash': 1760190987,\n",
       "  'token_start': 23,\n",
       "  'token_end': 23,\n",
       "  'label': 'event_related_to_problem'},\n",
       " {'start': 126,\n",
       "  'end': 158,\n",
       "  'token_start': 26,\n",
       "  'token_end': 30,\n",
       "  'label': 'event_related_to_problem'}]"
      ]
     },
     "execution_count": 80,
     "metadata": {},
     "output_type": "execute_result"
    }
   ],
   "source": [
    "DC[DC['_input_hash'] == 1760190987]['spans'].values[0]"
   ]
  },
  {
   "cell_type": "code",
   "execution_count": 51,
   "id": "7fccfae2",
   "metadata": {},
   "outputs": [
    {
     "ename": "IndexError",
     "evalue": "list index out of range",
     "output_type": "error",
     "traceback": [
      "\u001b[1;31m---------------------------------------------------------------------------\u001b[0m",
      "\u001b[1;31mIndexError\u001b[0m                                Traceback (most recent call last)",
      "\u001b[1;32m<ipython-input-51-22a56fb01ebc>\u001b[0m in \u001b[0;36m<module>\u001b[1;34m\u001b[0m\n\u001b[1;32m----> 1\u001b[1;33m \u001b[0mAG\u001b[0m\u001b[1;33m.\u001b[0m\u001b[0miloc\u001b[0m\u001b[1;33m[\u001b[0m\u001b[1;36m1\u001b[0m\u001b[1;33m]\u001b[0m\u001b[1;33m[\u001b[0m\u001b[1;34m'spans'\u001b[0m\u001b[1;33m]\u001b[0m\u001b[1;33m[\u001b[0m\u001b[1;36m4\u001b[0m\u001b[1;33m]\u001b[0m\u001b[1;33m\u001b[0m\u001b[1;33m\u001b[0m\u001b[0m\n\u001b[0m",
      "\u001b[1;31mIndexError\u001b[0m: list index out of range"
     ]
    }
   ],
   "source": [
    "AG.iloc[1]['spans'][4]"
   ]
  },
  {
   "cell_type": "code",
   "execution_count": null,
   "id": "b4a4e56d",
   "metadata": {},
   "outputs": [],
   "source": []
  }
 ],
 "metadata": {
  "kernelspec": {
   "display_name": "Python 3",
   "language": "python",
   "name": "python3"
  },
  "language_info": {
   "codemirror_mode": {
    "name": "ipython",
    "version": 3
   },
   "file_extension": ".py",
   "mimetype": "text/x-python",
   "name": "python",
   "nbconvert_exporter": "python",
   "pygments_lexer": "ipython3",
   "version": "3.9.13"
  }
 },
 "nbformat": 4,
 "nbformat_minor": 5
}
